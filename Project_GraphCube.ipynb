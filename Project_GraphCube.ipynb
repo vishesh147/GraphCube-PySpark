{
  "cells": [
    {
      "cell_type": "markdown",
      "metadata": {
        "id": "7luAJFoW2y5Z"
      },
      "source": [
        "## **Distributed Graph Cube Computation Using Spark**\n",
        "\n",
        "\n"
      ]
    },
    {
      "cell_type": "code",
      "execution_count": 188,
      "metadata": {
        "id": "Wcq9nlpUUDP2"
      },
      "outputs": [],
      "source": [
        "from pyspark.sql import SparkSession\n",
        "from pyspark.sql import functions as sf\n",
        "from pyspark import StorageLevel\n",
        "import findspark\n",
        "\n",
        "from itertools import product as crossProduct\n",
        "from itertools import combinations\n",
        "from math import prod\n",
        "\n",
        "findspark.init()\n",
        "\n",
        "spark = (SparkSession.builder.master('local').\n",
        "            appName(\"Graph Cube Computations\").                                     \n",
        "            getOrCreate())"
      ]
    },
    {
      "cell_type": "code",
      "execution_count": 187,
      "metadata": {},
      "outputs": [],
      "source": [
        "spark.stop()"
      ]
    },
    {
      "cell_type": "markdown",
      "metadata": {
        "id": "mEN148agBZv8"
      },
      "source": [
        "### **GraphNaive Algorithm**"
      ]
    },
    {
      "cell_type": "code",
      "execution_count": 114,
      "metadata": {
        "id": "IHK6tzwX_KRS"
      },
      "outputs": [],
      "source": [
        "class GraphNaive:\n",
        "\n",
        "    def __init__(self, verticesRDD, vertexDimensions, egdesRDD, edgeDimensions):\n",
        "        self.graphCube = {}\n",
        "        self.dimensions = {\n",
        "            'V': vertexDimensions,\n",
        "            'E': edgeDimensions,\n",
        "            'VE': (*vertexDimensions, *edgeDimensions)\n",
        "        }\n",
        "\n",
        "        self.V = verticesRDD\n",
        "        self.E = egdesRDD\n",
        "\n",
        "        # Generate Multidimensional Graph Table\n",
        "        self.VE = (self.V.join(self.E.map(lambda e: (e[0], (e[1], e[2]))))           \n",
        "            .map(lambda row: (row[1][1][0], (row[1][0], row[1][1][1])))             \n",
        "            .join(self.V)                                                             \n",
        "            .map(lambda row: (row[1][0][0], row[1][1], row[1][0][1])))                 \n",
        "\n",
        "\n",
        "    def computeGraphCube(self):\n",
        "        VCube = self.V.flatMap(lambda v :\n",
        "            [(key, 1) for key in crossProduct(*[['*', val] for val in v[1]])]\n",
        "        ).aggregateByKey(\n",
        "            0,\n",
        "            seqFunc = lambda x, y : x + 1,\n",
        "            combFunc = lambda x, y : x + y,\n",
        "        )\n",
        "        # self.graphCube['V'].persist(StorageLevel.MEMORY_AND_DISK)\n",
        "        self._computeCuboids('V', VCube)\n",
        "\n",
        "        ECube = self.E.flatMap(lambda e :\n",
        "            [(key, 1) for key in crossProduct(*[['*', val] for val in e[2]])]\n",
        "        ).aggregateByKey(\n",
        "            0,\n",
        "            seqFunc = lambda x, y : x + 1,\n",
        "            combFunc = lambda x, y : x + y,\n",
        "        )\n",
        "        # self.graphCube['E'].persist(StorageLevel.MEMORY_AND_DISK)\n",
        "        self._computeCuboids('E', ECube)\n",
        "\n",
        "        VECube = self.VE.flatMap(lambda ve:\n",
        "            ([(key, 1) for key in crossProduct(\n",
        "                *[['*', val] for val in\n",
        "                [*list(map(lambda x, y: \" - \".join([x, y]), ve[0], ve[1])),\n",
        "                *list(map(str, ve[2]))]]\n",
        "            )])\n",
        "        ).aggregateByKey(\n",
        "            0,\n",
        "            seqFunc = lambda x, y : x + 1,\n",
        "            combFunc = lambda x, y : x + y,\n",
        "        )\n",
        "        # self.graphCube['VE'].persist(StorageLevel.MEMORY_AND_DISK)\n",
        "        self._computeCuboids('VE', VECube)\n",
        "\n",
        "\n",
        "    def _computeCuboids(self, dType, cube):\n",
        "        dim = self.dimensions[dType]\n",
        "        self.graphCube[dType] = {}\n",
        "        for i in range(0, len(self.dimensions[dType])):\n",
        "            for cuboidDim in combinations(self.dimensions[dType], i):\n",
        "                self.graphCube[dType][frozenset(cuboidDim)] = (\n",
        "                    cube.filter(\n",
        "                        lambda v: all([v[0][i] != '*' if dim[i] in cuboidDim else v[0][i] == '*'\n",
        "                                    for i in range(len(dim))])\n",
        "                    )\n",
        "                )\n",
        "                self.graphCube[dType][frozenset(cuboidDim)].persist(StorageLevel.MEMORY_AND_DISK)\n",
        "\n",
        "\n",
        "\n",
        "    def getCuboid(self, queryDim):\n",
        "        if not self.graphCube:\n",
        "            self.computeGraphCube()\n",
        "\n",
        "        verticesQueryDim = [dim for dim in queryDim if dim in self.dimensions['V']]\n",
        "        vertices = self.graphCube['V'][frozenset(verticesQueryDim)].collect()\n",
        "        edges = self.graphCube['VE'][frozenset(queryDim)].collect()\n",
        "\n",
        "        return vertices, edges"
      ]
    },
    {
      "cell_type": "markdown",
      "metadata": {
        "id": "zfM-28_1lWlT"
      },
      "source": [
        "### **GraphTDC Algorithm**"
      ]
    },
    {
      "cell_type": "code",
      "execution_count": 143,
      "metadata": {
        "id": "k1ON4ppd4ZIC"
      },
      "outputs": [],
      "source": [
        "class GraphTDC:\n",
        "\n",
        "    def __init__(self, verticesRDD, vertexDimensions, egdesRDD, edgeDimensions, cardinalityMap):\n",
        "        self.graphCube = {}\n",
        "        self.dimensions = {\n",
        "            'V': vertexDimensions,\n",
        "            'E': edgeDimensions,\n",
        "            'VE': (*vertexDimensions, *edgeDimensions)\n",
        "        }\n",
        "        self.cardinalityMap = cardinalityMap\n",
        "        self.plan = {\n",
        "            'V': self._planGenerator('V'),\n",
        "            'E': self._planGenerator('E'),\n",
        "            'VE': self._planGenerator('VE')\n",
        "        }\n",
        "\n",
        "        self.V = verticesRDD\n",
        "        self.E = egdesRDD\n",
        "\n",
        "        # Generate Multidimensional Graph Table\n",
        "        self.VE = (self.V.join(self.E.map(lambda e: (e[0], (e[1], e[2])))).\n",
        "                    map(lambda row: (row[1][1][0], (row[1][0], row[1][1][1]))).\n",
        "                    join(self.V).\n",
        "                    map(lambda row: (row[1][0][0], row[1][1], row[1][0][1])))\n",
        "\n",
        "\n",
        "    def _planGenerator(self, dType):\n",
        "        try:\n",
        "            dim = self.dimensions[dType]\n",
        "        except:\n",
        "            raise ValueError('Invalid input: `dType`')\n",
        "\n",
        "        plan = {}\n",
        "        for L in range(len(dim), 0, -1):\n",
        "            UGC = self._getGraphCuboids(dim, L)\n",
        "            LGC = self._getGraphCuboids(dim, L-1)\n",
        "            for lgc in LGC:\n",
        "                AGC = self._getAncestorGraphCuboids(lgc, UGC)\n",
        "                smallestAncestor = self._getSmallestGraphCuboid(AGC)\n",
        "                if smallestAncestor not in plan:\n",
        "                    plan[smallestAncestor] = []\n",
        "                plan[smallestAncestor].append(lgc)\n",
        "        return plan\n",
        "\n",
        "\n",
        "    def _getGraphCuboids(self, dim, level):\n",
        "        return list(combinations(dim, level))\n",
        "\n",
        "\n",
        "    def _getAncestorGraphCuboids(self, lgc, UGC):\n",
        "        AGC = []\n",
        "        for ugc in UGC:\n",
        "            if all(d in ugc for d in lgc):\n",
        "                AGC.append(ugc)\n",
        "        return AGC\n",
        "\n",
        "\n",
        "    def _getSmallestGraphCuboid(self, AGC):\n",
        "        minAncestor = None\n",
        "        for agc in AGC:\n",
        "            cost = prod(self.cardinalityMap[d] for d in agc)\n",
        "            if not minAncestor or cost < minCost:\n",
        "                minAncestor = agc\n",
        "                minCost = cost\n",
        "        return minAncestor\n",
        "\n",
        "\n",
        "    def computeGraphCube(self):\n",
        "        VTopAncestor = self.computeCuboid(self.V, list(self.dimensions['V']), 'V', True)\n",
        "        self.graphCube['V'] = {}\n",
        "        self.graphCube['V'][frozenset(self.dimensions['V'])] = VTopAncestor\n",
        "        self.graphCube['V'][frozenset(self.dimensions['V'])].persist(StorageLevel.MEMORY_AND_DISK)\n",
        "        self.computeDescendants(self.dimensions['V'], 'V')\n",
        "\n",
        "        ETopAncestor = self.computeCuboid(self.E, list(self.dimensions['E']), 'E', True)\n",
        "        self.graphCube['E'] = {}\n",
        "        self.graphCube['E'][frozenset(self.dimensions['E'])] = ETopAncestor\n",
        "        self.graphCube['E'][frozenset(self.dimensions['E'])].persist(StorageLevel.MEMORY_AND_DISK)\n",
        "        self.computeDescendants(self.dimensions['E'], 'E')\n",
        "\n",
        "        VETopAncestor = self.computeCuboid(self.VE, list(self.dimensions['VE']), 'VE', True)\n",
        "        self.graphCube['VE'] = {}\n",
        "        self.graphCube['VE'][frozenset(self.dimensions['VE'])] = VETopAncestor\n",
        "        self.graphCube['VE'][frozenset(self.dimensions['VE'])].persist(StorageLevel.MEMORY_AND_DISK)\n",
        "        self.computeDescendants(self.dimensions['VE'], 'VE')\n",
        "\n",
        "\n",
        "    def computeCuboid(self, ancestor, dim, dType, isTopCuboid=False):\n",
        "        valIdx = 0\n",
        "        try:\n",
        "            header = self.dimensions[dType]\n",
        "        except:\n",
        "            raise ValueError('Invalid input: `dType`')\n",
        "        \n",
        "        if isTopCuboid:\n",
        "            if dType == 'V':\n",
        "                    valIdx = 1\n",
        "            elif dType == 'E':\n",
        "                    valIdx = 2\n",
        "            elif dType == 'VE':\n",
        "                    return ancestor.map(\n",
        "                        lambda rec : ((*[\"-\".join([rec[0][i], rec[1][i]])\n",
        "                        for i in range(len(rec[0]))], *list(map(str, rec[2]))), 1)\n",
        "                    ).aggregateByKey(\n",
        "                        0,\n",
        "                        seqFunc = lambda x, y : x + y,\n",
        "                        combFunc = lambda x, y : x + y,\n",
        "                    )\n",
        "            else:\n",
        "                raise ValueError('Invalid input: `dType`')\n",
        "\n",
        "        return ancestor.map(lambda rec :\n",
        "                (tuple([rec[valIdx][i]\n",
        "                        if header[i] in dim else '*'\n",
        "                        for i in range(len(rec[valIdx]))]), 1 if isTopCuboid else rec[1])\n",
        "            ).aggregateByKey(\n",
        "                0,\n",
        "                seqFunc = lambda x, y : x + y,\n",
        "                combFunc = lambda x, y : x + y,\n",
        "            )\n",
        "\n",
        "\n",
        "    def computeDescendants(self, ancestorDim, dType):\n",
        "        try:\n",
        "            plan = self.plan[dType]\n",
        "        except:\n",
        "            raise ValueError('Invalid input: `dType`')\n",
        "\n",
        "        for descendantDim in plan[ancestorDim]:\n",
        "            self.graphCube[dType][frozenset(descendantDim)] = self.computeCuboid(\n",
        "                self.graphCube[dType][frozenset(ancestorDim)],\n",
        "                descendantDim,\n",
        "                dType\n",
        "            )\n",
        "            self.graphCube[dType][frozenset(descendantDim)].persist(StorageLevel.MEMORY_AND_DISK)\n",
        "            if descendantDim in plan.keys():\n",
        "                self.computeDescendants(descendantDim, dType)\n",
        "\n",
        "\n",
        "    def getCuboid(self, queryDim):\n",
        "        if not self.graphCube:\n",
        "            self.computeGraphCube()\n",
        "\n",
        "        verticesQueryDim = [dim for dim in queryDim if dim in self.dimensions['V']]\n",
        "        vertices = self.graphCube['V'][frozenset(verticesQueryDim)].collect()\n",
        "        edges = self.graphCube['VE'][frozenset(queryDim)].collect()\n",
        "\n",
        "        return vertices, edges"
      ]
    },
    {
      "cell_type": "markdown",
      "metadata": {
        "id": "t_P75qF4Sy21"
      },
      "source": [
        "### **Sample Dataset**"
      ]
    },
    {
      "cell_type": "markdown",
      "metadata": {
        "id": "hCGB0CODNgTh"
      },
      "source": [
        "##### Vertices"
      ]
    },
    {
      "cell_type": "code",
      "execution_count": 207,
      "metadata": {
        "id": "VFrXUJL6EjB1"
      },
      "outputs": [],
      "source": [
        "sampleVerticesData = [\n",
        "    (1, 'M', 'USA', 'Professor'),\n",
        "    (2, 'F', 'USA', 'Doctor'),\n",
        "    (3, 'M', 'China', 'Engineer'),\n",
        "    (4, 'M', 'SG', 'Engineer'),\n",
        "    (5, 'F', 'SG', 'Professor'),\n",
        "    (6, 'M', 'SG', 'Doctor'),\n",
        "    (7, 'F', 'China', 'Engineer'),\n",
        "    (8, 'F', 'China', 'Doctor'),\n",
        "    (9, 'M', 'USA', 'Doctor')\n",
        "]\n",
        "\n",
        "sampleVertices = spark.sparkContext.parallelize(sampleVerticesData).map(\n",
        "    lambda rec: (rec[0], tuple(rec[1:]))\n",
        ")\n"
      ]
    },
    {
      "cell_type": "markdown",
      "metadata": {
        "id": "PWQOmGjtNeah"
      },
      "source": [
        "##### Edges"
      ]
    },
    {
      "cell_type": "code",
      "execution_count": 208,
      "metadata": {
        "id": "3Llek0O6SvER"
      },
      "outputs": [],
      "source": [
        "sampleEdgesData = [\n",
        "    (1, 2, '2008', 'Family', 9),\n",
        "    (1, 4, '2010', 'Friend', 7),\n",
        "    (1, 5, '2011', 'Colleague', 9),\n",
        "    (2, 3, '2011', 'Friend', 7),\n",
        "    (2, 4, '2011', 'Friend', 4),\n",
        "    (3, 4, '2008', 'Friend', 8),\n",
        "    (3, 7, '2011', 'Colleague', 8),\n",
        "    (3, 6, '2012', 'Family', 3),\n",
        "    (4, 5, '2009', 'Family', 9),\n",
        "    (4, 6, '2010', 'Friend', 6),\n",
        "    (5, 6, '2010', 'Family', 8),\n",
        "    (5, 9, '2012', 'Friend', 8),\n",
        "    (6, 7, '2008', 'Friend', 7),\n",
        "    (6, 8, '2012', 'Colleague', 9),\n",
        "    (6, 9, '2012', 'Friend', 5),\n",
        "    (7, 8, '2011', 'Friend', 5),\n",
        "    (8, 9, '2012', 'Colleague', 8)\n",
        "]\n",
        "\n",
        "sampleEdges = spark.sparkContext.parallelize(sampleEdgesData).map(\n",
        "    lambda rec: (rec[0], rec[1], tuple(rec[2:]))\n",
        ")"
      ]
    },
    {
      "cell_type": "markdown",
      "metadata": {
        "id": "UhlZ9_i6M6JN"
      },
      "source": [
        "#### **Performance Test**"
      ]
    },
    {
      "cell_type": "markdown",
      "metadata": {
        "id": "CjjgeORiNns_"
      },
      "source": [
        "##### GraphNaive"
      ]
    },
    {
      "cell_type": "code",
      "execution_count": 219,
      "metadata": {
        "id": "mGJls5GhM_K9"
      },
      "outputs": [],
      "source": [
        "sampleNaiveCube = GraphNaive(sampleVertices, ('Gender', 'Nation', 'Profession'), sampleEdges, ('Year', 'Type', 'Weight'))\n",
        "sampleNaiveCube.computeGraphCube()"
      ]
    },
    {
      "cell_type": "markdown",
      "metadata": {},
      "source": [
        "Cuboid Query"
      ]
    },
    {
      "cell_type": "code",
      "execution_count": 229,
      "metadata": {
        "colab": {
          "base_uri": "https://localhost:8080/"
        },
        "id": "kfgj5_YCNsdN",
        "outputId": "2b77df2c-2091-44f1-b2b0-dc8752cacfae"
      },
      "outputs": [
        {
          "name": "stdout",
          "output_type": "stream",
          "text": [
            "Vertices: \n",
            "(('M', 'USA', '*'), 2)\n",
            "(('F', 'USA', '*'), 1)\n",
            "(('M', 'China', '*'), 1)\n",
            "(('M', 'SG', '*'), 2)\n",
            "(('F', 'SG', '*'), 1)\n",
            "(('F', 'China', '*'), 2)\n",
            "\n",
            "Edges: \n",
            "(('F - M', 'SG - USA', '*', '*', '*', '*'), 1)\n",
            "(('M - M', 'USA - SG', '*', '*', '*', '*'), 1)\n",
            "(('M - F', 'China - China', '*', '*', '*', '*'), 1)\n",
            "(('F - F', 'China - China', '*', '*', '*', '*'), 1)\n",
            "(('M - F', 'USA - USA', '*', '*', '*', '*'), 1)\n",
            "(('F - M', 'USA - China', '*', '*', '*', '*'), 1)\n",
            "(('M - M', 'SG - USA', '*', '*', '*', '*'), 1)\n",
            "(('F - M', 'China - USA', '*', '*', '*', '*'), 1)\n",
            "(('F - M', 'USA - SG', '*', '*', '*', '*'), 1)\n",
            "(('M - F', 'SG - China', '*', '*', '*', '*'), 2)\n",
            "(('M - F', 'SG - SG', '*', '*', '*', '*'), 1)\n",
            "(('M - M', 'SG - SG', '*', '*', '*', '*'), 1)\n",
            "(('M - M', 'China - SG', '*', '*', '*', '*'), 2)\n",
            "(('F - M', 'SG - SG', '*', '*', '*', '*'), 1)\n",
            "(('M - F', 'USA - SG', '*', '*', '*', '*'), 1)\n"
          ]
        }
      ],
      "source": [
        "# %%timeit\n",
        "queryDim = ('Gender', 'Nation')\n",
        "vertices, edges = sampleNaiveCube.getCuboid(queryDim)\n",
        "\n",
        "print('Vertices: ')\n",
        "for v in vertices:\n",
        "    print(v)\n",
        "print('\\nEdges: ')\n",
        "for e in edges:\n",
        "    print(e)"
      ]
    },
    {
      "cell_type": "markdown",
      "metadata": {
        "id": "1u-wBnqZN3NW"
      },
      "source": [
        "##### GraphTDC"
      ]
    },
    {
      "cell_type": "code",
      "execution_count": 221,
      "metadata": {
        "id": "kPjQafYiN5ra"
      },
      "outputs": [],
      "source": [
        "sampleTDC = GraphTDC(sampleVertices, ('Gender', 'Nation', 'Profession'), sampleEdges, ('Year', 'Type', 'Strength'),\n",
        "             cardinalityMap={'Gender':2, 'Nation':3, 'Profession':3, 'Year':5, 'Type':3, 'Strength':10})\n",
        "sampleTDC.computeGraphCube()"
      ]
    },
    {
      "cell_type": "markdown",
      "metadata": {},
      "source": [
        "Cuboid Query"
      ]
    },
    {
      "cell_type": "code",
      "execution_count": 230,
      "metadata": {
        "colab": {
          "base_uri": "https://localhost:8080/"
        },
        "id": "CStAA3HuODm2",
        "outputId": "773bfb55-cc80-40ad-88ea-df826006e857"
      },
      "outputs": [
        {
          "name": "stdout",
          "output_type": "stream",
          "text": [
            "Vertices: \n",
            "(('M', 'USA', '*'), 2)\n",
            "(('F', 'USA', '*'), 1)\n",
            "(('M', 'China', '*'), 1)\n",
            "(('M', 'SG', '*'), 2)\n",
            "(('F', 'SG', '*'), 1)\n",
            "(('F', 'China', '*'), 2)\n",
            "\n",
            "Edges: \n",
            "(('M-F', 'USA-SG', '*', '*', '*', '*'), 1)\n",
            "(('F-M', 'SG-USA', '*', '*', '*', '*'), 1)\n",
            "(('F-M', 'China-USA', '*', '*', '*', '*'), 1)\n",
            "(('F-F', 'China-China', '*', '*', '*', '*'), 1)\n",
            "(('F-M', 'USA-SG', '*', '*', '*', '*'), 1)\n",
            "(('M-F', 'USA-USA', '*', '*', '*', '*'), 1)\n",
            "(('M-M', 'SG-SG', '*', '*', '*', '*'), 1)\n",
            "(('F-M', 'USA-China', '*', '*', '*', '*'), 1)\n",
            "(('M-M', 'USA-SG', '*', '*', '*', '*'), 1)\n",
            "(('M-M', 'SG-USA', '*', '*', '*', '*'), 1)\n",
            "(('M-F', 'SG-SG', '*', '*', '*', '*'), 1)\n",
            "(('M-F', 'SG-China', '*', '*', '*', '*'), 2)\n",
            "(('M-M', 'China-SG', '*', '*', '*', '*'), 2)\n",
            "(('M-F', 'China-China', '*', '*', '*', '*'), 1)\n",
            "(('F-M', 'SG-SG', '*', '*', '*', '*'), 1)\n"
          ]
        }
      ],
      "source": [
        "# %%timeit\n",
        "queryDim = ('Gender', 'Nation')\n",
        "vertices, edges = sampleTDC.getCuboid(queryDim)\n",
        "\n",
        "print('Vertices: ')\n",
        "for v in vertices:\n",
        "    print(v)\n",
        "print('\\nEdges: ')\n",
        "for e in edges:\n",
        "    print(e)"
      ]
    },
    {
      "cell_type": "markdown",
      "metadata": {
        "id": "dgSCZ2hpOPrM"
      },
      "source": [
        "##### Dataframe"
      ]
    },
    {
      "cell_type": "code",
      "execution_count": 57,
      "metadata": {
        "colab": {
          "base_uri": "https://localhost:8080/"
        },
        "id": "S-Hk9ogvSAqA",
        "outputId": "09cefaeb-036b-45df-c77b-4ff0dabc7952"
      },
      "outputs": [],
      "source": [
        "dfV = spark.createDataFrame(sampleVerticesData, ['Id', 'Gender', 'Country', 'Profession'])\n",
        "dfE = spark.createDataFrame(sampleEdgesData, ['SourceId', 'DestinationId', 'Year', 'Type', 'Weight'])\n",
        "\n",
        "dfVE = dfE.join(dfV, dfV.Id == dfE.SourceId).alias('src').join(\n",
        "        dfV.alias('dest'), sf.col('src.DestinationId') == sf.col('dest.Id')\n",
        "    ).select(\n",
        "        'src.Gender', 'src.Country', 'src.Profession',\n",
        "        'dest.Gender', 'dest.Country', 'dest.Profession',\n",
        "        'src.Year', 'src.Type', 'src.Weight'\n",
        "    )\n",
        "\n",
        "VCubeDf = dfV.cube('Gender', 'Country', 'Profession').count().orderBy('Gender', 'Country', 'Profession')\n",
        "\n",
        "VECubeDf = (dfVE.cube(\n",
        "    'src.Gender', 'dest.Gender', \n",
        "    'src.Country', 'dest.Country',\n",
        "    'src.Profession', 'dest.Profession',\n",
        "    'Year', 'Type', 'Weight')\n",
        "    .count())"
      ]
    },
    {
      "cell_type": "markdown",
      "metadata": {},
      "source": [
        "Cuboid Query"
      ]
    },
    {
      "cell_type": "code",
      "execution_count": 10,
      "metadata": {},
      "outputs": [
        {
          "name": "stdout",
          "output_type": "stream",
          "text": [
            "+------+-------+----------+-----+\n",
            "|Gender|Country|Profession|count|\n",
            "+------+-------+----------+-----+\n",
            "|     F|   NULL|      NULL|    4|\n",
            "|     M|   NULL|      NULL|    5|\n",
            "+------+-------+----------+-----+\n",
            "\n",
            "+------+------+-------+-------+----------+----------+----+---------+------+-----+\n",
            "|Gender|Gender|Country|Country|Profession|Profession|Year|     Type|Weight|count|\n",
            "+------+------+-------+-------+----------+----------+----+---------+------+-----+\n",
            "|     M|     F|   NULL|   NULL|      NULL|      NULL|NULL|Colleague|  NULL|    3|\n",
            "|     F|     M|   NULL|   NULL|      NULL|      NULL|NULL|Colleague|  NULL|    1|\n",
            "|     M|     M|   NULL|   NULL|      NULL|      NULL|NULL|   Friend|  NULL|    4|\n",
            "|     M|     F|   NULL|   NULL|      NULL|      NULL|NULL|   Family|  NULL|    2|\n",
            "|     F|     M|   NULL|   NULL|      NULL|      NULL|NULL|   Family|  NULL|    1|\n",
            "|     F|     M|   NULL|   NULL|      NULL|      NULL|NULL|   Friend|  NULL|    3|\n",
            "|     M|     M|   NULL|   NULL|      NULL|      NULL|NULL|   Family|  NULL|    1|\n",
            "|     F|     F|   NULL|   NULL|      NULL|      NULL|NULL|   Friend|  NULL|    1|\n",
            "|     M|     F|   NULL|   NULL|      NULL|      NULL|NULL|   Friend|  NULL|    1|\n",
            "+------+------+-------+-------+----------+----------+----+---------+------+-----+\n",
            "\n"
          ]
        }
      ],
      "source": [
        "# %%timeit\n",
        "VCubeDf.filter(\n",
        "    sf.col('Gender').isNotNull() &\n",
        "    sf.col('Country').isNull() &\n",
        "    sf.col('Profession').isNull()\n",
        ").show()\n",
        "\n",
        "VECubeDf.filter(\n",
        "    sf.col('src.Gender').isNotNull() & sf.col('dest.Gender').isNotNull() &\n",
        "    sf.col('src.Country').isNull() & sf.col('dest.Country').isNull() &\n",
        "    sf.col('src.Profession').isNull() & sf.col('dest.Profession').isNull() &\n",
        "    sf.col('Year').isNull() & \n",
        "    sf.col('Type').isNotNull() &\n",
        "    sf.col('Weight').isNull()\n",
        ").show()"
      ]
    },
    {
      "cell_type": "markdown",
      "metadata": {},
      "source": [
        "### **Facebook Dataset**"
      ]
    },
    {
      "cell_type": "markdown",
      "metadata": {},
      "source": [
        "##### Vertices"
      ]
    },
    {
      "cell_type": "code",
      "execution_count": 195,
      "metadata": {},
      "outputs": [],
      "source": [
        "fbVertices = spark.sparkContext.textFile(\"./data/facebook_vertices.csv\")\n",
        "fbVertices = fbVertices.map(lambda rec: (rec.split(',')[0], tuple(rec.split(',')[1:])))\n",
        "fbVerticesHeader = fbVertices.first()\n",
        "fbVertices = fbVertices.filter(lambda rec: rec != fbVerticesHeader)"
      ]
    },
    {
      "cell_type": "markdown",
      "metadata": {},
      "source": [
        "##### Edges"
      ]
    },
    {
      "cell_type": "code",
      "execution_count": 196,
      "metadata": {},
      "outputs": [],
      "source": [
        "fbEdges = spark.sparkContext.textFile(\"./data/facebook_edges.csv\")\n",
        "fbEdges = fbEdges.map(lambda rec: (rec.split(',')[0], rec.split(',')[1], tuple(rec.split(',')[2:])))\n",
        "fbEgdesHeader = fbEdges.first()\n",
        "fbEdges = fbEdges.filter(lambda rec: rec != fbEgdesHeader)"
      ]
    },
    {
      "cell_type": "markdown",
      "metadata": {},
      "source": [
        "#### **Performance Test**"
      ]
    },
    {
      "cell_type": "markdown",
      "metadata": {},
      "source": [
        "##### GraphNaive"
      ]
    },
    {
      "cell_type": "code",
      "execution_count": 231,
      "metadata": {},
      "outputs": [],
      "source": [
        "fbNaiveCube = GraphNaive(fbVertices, ('PageType', 'Year', 'Country'), fbEdges, ('FriendType', 'FriendshipAge'))\n",
        "fbNaiveCube.computeGraphCube()"
      ]
    },
    {
      "cell_type": "markdown",
      "metadata": {},
      "source": [
        "Cuboid Query"
      ]
    },
    {
      "cell_type": "code",
      "execution_count": 232,
      "metadata": {},
      "outputs": [
        {
          "name": "stdout",
          "output_type": "stream",
          "text": [
            "Vertices: \n",
            "(('tvshow', '*', '*'), 3327)\n",
            "(('government', '*', '*'), 6880)\n",
            "(('company', '*', '*'), 6495)\n",
            "(('politician', '*', '*'), 5768)\n",
            "\n",
            "Edges: \n",
            "(('tvshow - tvshow', '*', '*', 'Restricted', '*'), 4335)\n",
            "(('politician - politician', '*', '*', 'Acquaintance', '*'), 12388)\n",
            "(('government - government', '*', '*', 'Acquaintance', '*'), 27334)\n",
            "(('company - government', '*', '*', 'Acquaintance', '*'), 842)\n",
            "(('company - government', '*', '*', 'Restricted', '*'), 819)\n",
            "(('government - government', '*', '*', 'Restricted', '*'), 27252)\n",
            "(('company - company', '*', '*', 'Acquaintance', '*'), 6712)\n",
            "(('politician - tvshow', '*', '*', 'Restricted', '*'), 197)\n",
            "(('company - politician', '*', '*', 'Restricted', '*'), 118)\n",
            "(('tvshow - politician', '*', '*', 'Close Friend', '*'), 224)\n",
            "(('politician - government', '*', '*', 'Acquaintance', '*'), 1541)\n",
            "(('politician - government', '*', '*', 'Close Friend', '*'), 1485)\n",
            "(('tvshow - government', '*', '*', 'Acquaintance', '*'), 217)\n",
            "(('government - tvshow', '*', '*', 'Restricted', '*'), 211)\n",
            "(('government - tvshow', '*', '*', 'Close Friend', '*'), 190)\n",
            "(('company - politician', '*', '*', 'Close Friend', '*'), 126)\n",
            "(('company - government', '*', '*', 'Close Friend', '*'), 837)\n",
            "(('company - tvshow', '*', '*', 'Restricted', '*'), 430)\n",
            "(('company - tvshow', '*', '*', 'Close Friend', '*'), 380)\n",
            "(('politician - company', '*', '*', 'Close Friend', '*'), 117)\n",
            "(('tvshow - tvshow', '*', '*', 'Close Friend', '*'), 4304)\n",
            "(('government - politician', '*', '*', 'Restricted', '*'), 1590)\n",
            "(('politician - politician', '*', '*', 'Close Friend', '*'), 12274)\n",
            "(('government - politician', '*', '*', 'Acquaintance', '*'), 1563)\n",
            "(('tvshow - government', '*', '*', 'Restricted', '*'), 202)\n",
            "(('government - government', '*', '*', 'Close Friend', '*'), 26781)\n",
            "(('government - company', '*', '*', 'Close Friend', '*'), 728)\n",
            "(('company - company', '*', '*', 'Close Friend', '*'), 6694)\n",
            "(('tvshow - company', '*', '*', 'Close Friend', '*'), 426)\n",
            "(('government - company', '*', '*', 'Acquaintance', '*'), 757)\n",
            "(('tvshow - company', '*', '*', 'Acquaintance', '*'), 401)\n",
            "(('politician - tvshow', '*', '*', 'Acquaintance', '*'), 198)\n",
            "(('tvshow - government', '*', '*', 'Close Friend', '*'), 202)\n",
            "(('tvshow - politician', '*', '*', 'Acquaintance', '*'), 211)\n",
            "(('politician - company', '*', '*', 'Restricted', '*'), 109)\n",
            "(('company - politician', '*', '*', 'Acquaintance', '*'), 121)\n",
            "(('company - tvshow', '*', '*', 'Acquaintance', '*'), 401)\n",
            "(('tvshow - tvshow', '*', '*', 'Acquaintance', '*'), 4352)\n",
            "(('government - politician', '*', '*', 'Close Friend', '*'), 1580)\n",
            "(('politician - politician', '*', '*', 'Restricted', '*'), 12247)\n",
            "(('tvshow - company', '*', '*', 'Restricted', '*'), 446)\n",
            "(('government - company', '*', '*', 'Restricted', '*'), 724)\n",
            "(('company - company', '*', '*', 'Restricted', '*'), 6739)\n",
            "(('politician - tvshow', '*', '*', 'Close Friend', '*'), 202)\n",
            "(('politician - government', '*', '*', 'Restricted', '*'), 1486)\n",
            "(('tvshow - politician', '*', '*', 'Restricted', '*'), 236)\n",
            "(('government - tvshow', '*', '*', 'Acquaintance', '*'), 186)\n",
            "(('politician - company', '*', '*', 'Acquaintance', '*'), 87)\n"
          ]
        }
      ],
      "source": [
        "# %%timeit\n",
        "queryDim = ('PageType', 'FriendType')\n",
        "vertices, edges = fbNaiveCube.getCuboid(queryDim)\n",
        "\n",
        "print('Vertices: ')\n",
        "for v in vertices:\n",
        "    print(v)\n",
        "print('\\nEdges: ')\n",
        "for e in edges:\n",
        "    print(e)"
      ]
    },
    {
      "cell_type": "markdown",
      "metadata": {},
      "source": [
        "##### GraphTDC"
      ]
    },
    {
      "cell_type": "code",
      "execution_count": 233,
      "metadata": {},
      "outputs": [],
      "source": [
        "fbTDC = GraphTDC(fbVertices, ('PageType', 'Year', 'Country'), fbEdges, ('FriendType', 'FriendshipAge'),\n",
        "                {'PageType':4, 'Year':22, 'Country':196, 'FriendType':3, 'FriendshipAge':11})\n",
        "fbTDC.computeGraphCube()"
      ]
    },
    {
      "cell_type": "markdown",
      "metadata": {},
      "source": [
        "Cuboid Query"
      ]
    },
    {
      "cell_type": "code",
      "execution_count": 234,
      "metadata": {},
      "outputs": [
        {
          "name": "stdout",
          "output_type": "stream",
          "text": [
            "Vertices: \n",
            "(('tvshow', '*', '*'), 3327)\n",
            "(('government', '*', '*'), 6880)\n",
            "(('company', '*', '*'), 6495)\n",
            "(('politician', '*', '*'), 5768)\n",
            "\n",
            "Edges: \n",
            "(('tvshow-tvshow', '*', '*', 'Restricted', '*'), 4335)\n",
            "(('tvshow-tvshow', '*', '*', 'Close Friend', '*'), 4304)\n",
            "(('government-company', '*', '*', 'Restricted', '*'), 724)\n",
            "(('government-government', '*', '*', 'Acquaintance', '*'), 27334)\n",
            "(('politician-politician', '*', '*', 'Restricted', '*'), 12247)\n",
            "(('tvshow-company', '*', '*', 'Acquaintance', '*'), 401)\n",
            "(('government-tvshow', '*', '*', 'Restricted', '*'), 211)\n",
            "(('government-company', '*', '*', 'Close Friend', '*'), 728)\n",
            "(('government-tvshow', '*', '*', 'Acquaintance', '*'), 186)\n",
            "(('politician-company', '*', '*', 'Acquaintance', '*'), 87)\n",
            "(('government-politician', '*', '*', 'Restricted', '*'), 1590)\n",
            "(('company-company', '*', '*', 'Restricted', '*'), 6739)\n",
            "(('politician-politician', '*', '*', 'Close Friend', '*'), 12274)\n",
            "(('politician-tvshow', '*', '*', 'Acquaintance', '*'), 198)\n",
            "(('politician-tvshow', '*', '*', 'Close Friend', '*'), 202)\n",
            "(('government-government', '*', '*', 'Restricted', '*'), 27252)\n",
            "(('government-politician', '*', '*', 'Close Friend', '*'), 1580)\n",
            "(('government-government', '*', '*', 'Close Friend', '*'), 26781)\n",
            "(('company-government', '*', '*', 'Restricted', '*'), 819)\n",
            "(('politician-government', '*', '*', 'Close Friend', '*'), 1485)\n",
            "(('company-government', '*', '*', 'Acquaintance', '*'), 842)\n",
            "(('tvshow-government', '*', '*', 'Close Friend', '*'), 202)\n",
            "(('tvshow-politician', '*', '*', 'Acquaintance', '*'), 211)\n",
            "(('company-politician', '*', '*', 'Restricted', '*'), 118)\n",
            "(('company-tvshow', '*', '*', 'Close Friend', '*'), 380)\n",
            "(('company-tvshow', '*', '*', 'Acquaintance', '*'), 401)\n",
            "(('tvshow-politician', '*', '*', 'Restricted', '*'), 236)\n",
            "(('tvshow-government', '*', '*', 'Acquaintance', '*'), 217)\n",
            "(('government-tvshow', '*', '*', 'Close Friend', '*'), 190)\n",
            "(('company-politician', '*', '*', 'Acquaintance', '*'), 121)\n",
            "(('tvshow-tvshow', '*', '*', 'Acquaintance', '*'), 4352)\n",
            "(('tvshow-company', '*', '*', 'Close Friend', '*'), 426)\n",
            "(('company-company', '*', '*', 'Close Friend', '*'), 6694)\n",
            "(('company-company', '*', '*', 'Acquaintance', '*'), 6712)\n",
            "(('politician-politician', '*', '*', 'Acquaintance', '*'), 12388)\n",
            "(('politician-government', '*', '*', 'Restricted', '*'), 1486)\n",
            "(('company-government', '*', '*', 'Close Friend', '*'), 837)\n",
            "(('government-company', '*', '*', 'Acquaintance', '*'), 757)\n",
            "(('politician-government', '*', '*', 'Acquaintance', '*'), 1541)\n",
            "(('tvshow-government', '*', '*', 'Restricted', '*'), 202)\n",
            "(('government-politician', '*', '*', 'Acquaintance', '*'), 1563)\n",
            "(('politician-tvshow', '*', '*', 'Restricted', '*'), 197)\n",
            "(('tvshow-company', '*', '*', 'Restricted', '*'), 446)\n",
            "(('tvshow-politician', '*', '*', 'Close Friend', '*'), 224)\n",
            "(('politician-company', '*', '*', 'Restricted', '*'), 109)\n",
            "(('company-tvshow', '*', '*', 'Restricted', '*'), 430)\n",
            "(('company-politician', '*', '*', 'Close Friend', '*'), 126)\n",
            "(('politician-company', '*', '*', 'Close Friend', '*'), 117)\n"
          ]
        }
      ],
      "source": [
        "# %%timeit\n",
        "queryDim = ('PageType', 'FriendType')\n",
        "vertices, edges = fbTDC.getCuboid(queryDim)\n",
        "\n",
        "print('Vertices: ')\n",
        "for v in vertices:\n",
        "    print(v)\n",
        "print('\\nEdges: ')\n",
        "for e in edges:\n",
        "    print(e)"
      ]
    },
    {
      "cell_type": "markdown",
      "metadata": {},
      "source": [
        "##### Dataframe"
      ]
    },
    {
      "cell_type": "code",
      "execution_count": 203,
      "metadata": {},
      "outputs": [],
      "source": [
        "fbVerticesDf  = spark.read.csv('./data/facebook_vertices.csv', header=True)\n",
        "\n",
        "fbEdgesDf  = spark.read.csv('./data/facebook_edges.csv', header=True)\n",
        "\n",
        "fbVEDf = fbEdgesDf.join(fbVerticesDf , fbVerticesDf.id == fbEdgesDf.id_1).alias('src').join(\n",
        "        fbVerticesDf.alias('dest'), sf.col('src.id_2') == sf.col('dest.id')\n",
        "    ).select(\n",
        "        'src.page_type', 'src.year_established', 'src.country',\n",
        "        'dest.page_type', 'dest.year_established', 'dest.country',\n",
        "        'src.friend_type', 'src.years',\n",
        "    )\n",
        "\n",
        "fbVCubeDf = fbVerticesDf.cube(fbVerticesDf.columns[1:]).count().orderBy(fbVerticesDf.columns[1:])\n",
        "\n",
        "fbVECubeDf = (fbVEDf.cube(\n",
        "    'src.page_type', 'dest.page_type', \n",
        "    'src.year_established', 'dest.year_established',\n",
        "    'src.country', 'dest.country',\n",
        "    'friend_type', 'years')\n",
        "    .count())"
      ]
    },
    {
      "cell_type": "markdown",
      "metadata": {},
      "source": [
        "Cuboid Query"
      ]
    },
    {
      "cell_type": "code",
      "execution_count": 204,
      "metadata": {},
      "outputs": [
        {
          "name": "stdout",
          "output_type": "stream",
          "text": [
            "+----------+----------------+-------+-----+\n",
            "| page_type|year_established|country|count|\n",
            "+----------+----------------+-------+-----+\n",
            "|   company|            NULL|   NULL| 6495|\n",
            "|government|            NULL|   NULL| 6880|\n",
            "|politician|            NULL|   NULL| 5768|\n",
            "|    tvshow|            NULL|   NULL| 3327|\n",
            "+----------+----------------+-------+-----+\n",
            "\n",
            "+----------+----------+----------------+----------------+-------+-------+------------+-----+-----+\n",
            "| page_type| page_type|year_established|year_established|country|country| friend_type|years|count|\n",
            "+----------+----------+----------------+----------------+-------+-------+------------+-----+-----+\n",
            "|government|   company|            NULL|            NULL|   NULL|   NULL|  Restricted| NULL|  724|\n",
            "|   company|politician|            NULL|            NULL|   NULL|   NULL|Close Friend| NULL|  126|\n",
            "|   company|politician|            NULL|            NULL|   NULL|   NULL|Acquaintance| NULL|  121|\n",
            "|   company|   company|            NULL|            NULL|   NULL|   NULL|Acquaintance| NULL| 6712|\n",
            "|politician|government|            NULL|            NULL|   NULL|   NULL|  Restricted| NULL| 1486|\n",
            "|government|government|            NULL|            NULL|   NULL|   NULL|Close Friend| NULL|26781|\n",
            "|politician|government|            NULL|            NULL|   NULL|   NULL|Close Friend| NULL| 1485|\n",
            "|   company|    tvshow|            NULL|            NULL|   NULL|   NULL|  Restricted| NULL|  430|\n",
            "|    tvshow|    tvshow|            NULL|            NULL|   NULL|   NULL|  Restricted| NULL| 4335|\n",
            "|government|   company|            NULL|            NULL|   NULL|   NULL|Close Friend| NULL|  728|\n",
            "|politician|   company|            NULL|            NULL|   NULL|   NULL|Acquaintance| NULL|   87|\n",
            "|politician|politician|            NULL|            NULL|   NULL|   NULL|Acquaintance| NULL|12388|\n",
            "|politician|   company|            NULL|            NULL|   NULL|   NULL|  Restricted| NULL|  109|\n",
            "|    tvshow|   company|            NULL|            NULL|   NULL|   NULL|Close Friend| NULL|  426|\n",
            "|    tvshow|politician|            NULL|            NULL|   NULL|   NULL|Close Friend| NULL|  224|\n",
            "|government|politician|            NULL|            NULL|   NULL|   NULL|  Restricted| NULL| 1590|\n",
            "|government|    tvshow|            NULL|            NULL|   NULL|   NULL|  Restricted| NULL|  211|\n",
            "|   company|    tvshow|            NULL|            NULL|   NULL|   NULL|Acquaintance| NULL|  401|\n",
            "|    tvshow|   company|            NULL|            NULL|   NULL|   NULL|Acquaintance| NULL|  401|\n",
            "|government|politician|            NULL|            NULL|   NULL|   NULL|Acquaintance| NULL| 1563|\n",
            "+----------+----------+----------------+----------------+-------+-------+------------+-----+-----+\n",
            "only showing top 20 rows\n",
            "\n"
          ]
        }
      ],
      "source": [
        "# %%timeit\n",
        "fbVCubeDf.filter(\n",
        "    sf.col('page_type').isNotNull() &\n",
        "    sf.col('year_established').isNull() &\n",
        "    sf.col('country').isNull()\n",
        ").show()\n",
        "\n",
        "fbVECubeDf.filter(\n",
        "    sf.col('src.page_type').isNotNull() & sf.col('dest.page_type').isNotNull() &\n",
        "    sf.col('src.year_established').isNull() & sf.col('dest.year_established').isNull() &\n",
        "    sf.col('src.country').isNull() & sf.col('dest.country').isNull() &\n",
        "    sf.col('friend_type').isNotNull() & \n",
        "    sf.col('years').isNull()\n",
        ").show()"
      ]
    },
    {
      "cell_type": "markdown",
      "metadata": {},
      "source": [
        "### **Github Dataset**"
      ]
    },
    {
      "cell_type": "markdown",
      "metadata": {
        "id": "7M5JnAW46NBB"
      },
      "source": [
        "##### Vertices"
      ]
    },
    {
      "cell_type": "code",
      "execution_count": 235,
      "metadata": {
        "id": "1Eip1qbCy8bR"
      },
      "outputs": [],
      "source": [
        "ghVertices = spark.sparkContext.textFile(\"./data/github_vertices.csv\")\n",
        "ghVertices = ghVertices.map(lambda rec: (rec.split(',')[0], tuple(rec.split(',')[1:])))\n",
        "ghVerticesHeader = ghVertices.first()\n",
        "ghVertices = ghVertices.filter(lambda rec: rec != ghVerticesHeader)"
      ]
    },
    {
      "cell_type": "markdown",
      "metadata": {
        "id": "kY3Py9MY6J1_"
      },
      "source": [
        "##### Edges"
      ]
    },
    {
      "cell_type": "code",
      "execution_count": 236,
      "metadata": {
        "id": "m6oSu1i2yskD"
      },
      "outputs": [],
      "source": [
        "ghEdges = spark.sparkContext.textFile(\"./data/github_edges.csv\")\n",
        "ghEdges = ghEdges.map(lambda rec: (rec.split(',')[0], rec.split(',')[1], tuple(rec.split(',')[2:])))\n",
        "ghEgdesHeader = ghEdges.first()\n",
        "ghEdges = ghEdges.filter(lambda rec: rec != ghEgdesHeader)"
      ]
    },
    {
      "cell_type": "markdown",
      "metadata": {
        "id": "osCgXJ9ML8NP"
      },
      "source": [
        "#### **Performance Test**"
      ]
    },
    {
      "cell_type": "markdown",
      "metadata": {
        "id": "3dRWJDxLMpwX"
      },
      "source": [
        "##### GraphNaive"
      ]
    },
    {
      "cell_type": "code",
      "execution_count": 237,
      "metadata": {
        "id": "d1_vNd81MC1p"
      },
      "outputs": [],
      "source": [
        "ghNaiveCube = GraphNaive(ghVertices, ('devDomain', 'gender', 'yearJoined', 'hacktoberfest'), \n",
        "                         ghEdges, ('relationshipType',))\n",
        "ghNaiveCube.computeGraphCube()"
      ]
    },
    {
      "cell_type": "markdown",
      "metadata": {},
      "source": [
        "Cuboid Query"
      ]
    },
    {
      "cell_type": "code",
      "execution_count": 244,
      "metadata": {
        "colab": {
          "base_uri": "https://localhost:8080/"
        },
        "id": "cYJnsDKYOY7y",
        "outputId": "ab5cd9e8-ff49-44a4-c8fb-8bfac42980c7"
      },
      "outputs": [
        {
          "name": "stdout",
          "output_type": "stream",
          "text": [
            "Vertices: \n",
            "(('Android', '*', '*', '*'), 4659)\n",
            "(('DevOps', '*', '*', '*'), 4676)\n",
            "(('Web', '*', '*', '*'), 4691)\n",
            "(('Machine Learning', '*', '*', '*'), 4642)\n",
            "(('Cloud', '*', '*', '*'), 4704)\n",
            "(('Windows', '*', '*', '*'), 4841)\n",
            "(('Cybersecurity', '*', '*', '*'), 4690)\n",
            "(('IOS', '*', '*', '*'), 4797)\n",
            "\n",
            "Edges: \n",
            "(('IOS - Android', '*', '*', '*', 'Friends'), 1302)\n",
            "(('Machine Learning - Android', '*', '*', '*', 'Colleagues'), 1370)\n",
            "(('Machine Learning - Android', '*', '*', '*', 'Collaborators'), 1346)\n",
            "(('Web - Android', '*', '*', '*', 'Colleagues'), 1269)\n",
            "(('Windows - Cybersecurity', '*', '*', '*', 'Friends'), 1683)\n",
            "(('Web - Cybersecurity', '*', '*', '*', 'Collaborators'), 1275)\n",
            "(('Windows - Cybersecurity', '*', '*', '*', 'Colleagues'), 1700)\n",
            "(('Web - Cybersecurity', '*', '*', '*', 'Colleagues'), 1345)\n",
            "(('IOS - Cybersecurity', '*', '*', '*', 'Friends'), 1434)\n",
            "(('Windows - Windows', '*', '*', '*', 'Colleagues'), 2305)\n",
            "(('Windows - Windows', '*', '*', '*', 'Collaborators'), 2337)\n",
            "(('IOS - Windows', '*', '*', '*', 'Friends'), 2091)\n",
            "(('Android - Windows', '*', '*', '*', 'Friends'), 1760)\n",
            "(('Web - Windows', '*', '*', '*', 'Collaborators'), 1916)\n",
            "(('Cloud - IOS', '*', '*', '*', 'Friends'), 1662)\n",
            "(('Windows - IOS', '*', '*', '*', 'Colleagues'), 1768)\n",
            "(('Android - IOS', '*', '*', '*', 'Collaborators'), 1213)\n",
            "(('IOS - IOS', '*', '*', '*', 'Collaborators'), 1389)\n",
            "(('DevOps - Machine Learning', '*', '*', '*', 'Collaborators'), 1415)\n",
            "(('Cloud - Machine Learning', '*', '*', '*', 'Colleagues'), 1813)\n",
            "(('Android - Machine Learning', '*', '*', '*', 'Collaborators'), 1461)\n",
            "(('Web - Machine Learning', '*', '*', '*', 'Colleagues'), 1449)\n",
            "(('Cybersecurity - Machine Learning', '*', '*', '*', 'Friends'), 1543)\n",
            "(('DevOps - Web', '*', '*', '*', 'Collaborators'), 1220)\n",
            "(('Windows - Web', '*', '*', '*', 'Colleagues'), 1539)\n",
            "(('Web - Windows', '*', '*', '*', 'Colleagues'), 1932)\n",
            "(('Web - DevOps', '*', '*', '*', 'Collaborators'), 1272)\n",
            "(('Web - Web', '*', '*', '*', 'Colleagues'), 1328)\n",
            "(('Windows - Web', '*', '*', '*', 'Collaborators'), 1592)\n",
            "(('Machine Learning - Web', '*', '*', '*', 'Colleagues'), 1357)\n",
            "(('Web - Web', '*', '*', '*', 'Friends'), 1269)\n",
            "(('DevOps - Web', '*', '*', '*', 'Colleagues'), 1307)\n",
            "(('Cloud - Web', '*', '*', '*', 'Collaborators'), 1610)\n",
            "(('Android - Web', '*', '*', '*', 'Friends'), 1176)\n",
            "(('Cybersecurity - Web', '*', '*', '*', 'Collaborators'), 1402)\n",
            "(('IOS - Web', '*', '*', '*', 'Friends'), 1299)\n",
            "(('Cybersecurity - IOS', '*', '*', '*', 'Friends'), 1471)\n",
            "(('Web - IOS', '*', '*', '*', 'Collaborators'), 1319)\n",
            "(('Android - DevOps', '*', '*', '*', 'Friends'), 1195)\n",
            "(('Cloud - DevOps', '*', '*', '*', 'Colleagues'), 1619)\n",
            "(('Machine Learning - IOS', '*', '*', '*', 'Friends'), 1456)\n",
            "(('IOS - IOS', '*', '*', '*', 'Colleagues'), 1415)\n",
            "(('DevOps - IOS', '*', '*', '*', 'Friends'), 1331)\n",
            "(('Cloud - Cybersecurity', '*', '*', '*', 'Colleagues'), 1682)\n",
            "(('Cybersecurity - Android', '*', '*', '*', 'Colleagues'), 1377)\n",
            "(('Windows - Cloud', '*', '*', '*', 'Collaborators'), 1613)\n",
            "(('Windows - Cloud', '*', '*', '*', 'Colleagues'), 1637)\n",
            "(('Cloud - Cloud', '*', '*', '*', 'Colleagues'), 1676)\n",
            "(('Cybersecurity - Cloud', '*', '*', '*', 'Friends'), 1491)\n",
            "(('Cloud - Cloud', '*', '*', '*', 'Friends'), 1642)\n",
            "(('Android - Cloud', '*', '*', '*', 'Colleagues'), 1224)\n",
            "(('IOS - Cloud', '*', '*', '*', 'Colleagues'), 1338)\n",
            "(('DevOps - Cloud', '*', '*', '*', 'Colleagues'), 1347)\n",
            "(('IOS - Cloud', '*', '*', '*', 'Friends'), 1383)\n",
            "(('Windows - Cybersecurity', '*', '*', '*', 'Collaborators'), 1672)\n",
            "(('Android - Cybersecurity', '*', '*', '*', 'Friends'), 1274)\n",
            "(('Web - Cybersecurity', '*', '*', '*', 'Friends'), 1299)\n",
            "(('DevOps - Cybersecurity', '*', '*', '*', 'Collaborators'), 1291)\n",
            "(('DevOps - DevOps', '*', '*', '*', 'Friends'), 1313)\n",
            "(('DevOps - Android', '*', '*', '*', 'Colleagues'), 1163)\n",
            "(('IOS - Android', '*', '*', '*', 'Collaborators'), 1378)\n",
            "(('Cybersecurity - Android', '*', '*', '*', 'Friends'), 1377)\n",
            "(('Cloud - Android', '*', '*', '*', 'Colleagues'), 1557)\n",
            "(('DevOps - Android', '*', '*', '*', 'Friends'), 1176)\n",
            "(('Web - Android', '*', '*', '*', 'Collaborators'), 1283)\n",
            "(('Windows - Android', '*', '*', '*', 'Friends'), 1601)\n",
            "(('Android - Android', '*', '*', '*', 'Friends'), 1207)\n",
            "(('Cybersecurity - Cybersecurity', '*', '*', '*', 'Friends'), 1424)\n",
            "(('Cloud - Cybersecurity', '*', '*', '*', 'Collaborators'), 1648)\n",
            "(('IOS - Cybersecurity', '*', '*', '*', 'Collaborators'), 1476)\n",
            "(('DevOps - Cybersecurity', '*', '*', '*', 'Colleagues'), 1307)\n",
            "(('Android - Cybersecurity', '*', '*', '*', 'Collaborators'), 1244)\n",
            "(('Cloud - Windows', '*', '*', '*', 'Friends'), 2230)\n",
            "(('IOS - Windows', '*', '*', '*', 'Colleagues'), 2005)\n",
            "(('Machine Learning - Windows', '*', '*', '*', 'Colleagues'), 2025)\n",
            "(('Cybersecurity - Windows', '*', '*', '*', 'Colleagues'), 2040)\n",
            "(('Web - Windows', '*', '*', '*', 'Friends'), 1925)\n",
            "(('Machine Learning - Windows', '*', '*', '*', 'Friends'), 2050)\n",
            "(('Cloud - Windows', '*', '*', '*', 'Collaborators'), 2228)\n",
            "(('Web - IOS', '*', '*', '*', 'Colleagues'), 1339)\n",
            "(('Cybersecurity - IOS', '*', '*', '*', 'Collaborators'), 1442)\n",
            "(('DevOps - IOS', '*', '*', '*', 'Colleagues'), 1310)\n",
            "(('DevOps - IOS', '*', '*', '*', 'Collaborators'), 1280)\n",
            "(('Cloud - IOS', '*', '*', '*', 'Colleagues'), 1558)\n",
            "(('DevOps - Machine Learning', '*', '*', '*', 'Colleagues'), 1414)\n",
            "(('Windows - Machine Learning', '*', '*', '*', 'Colleagues'), 1780)\n",
            "(('Android - Machine Learning', '*', '*', '*', 'Colleagues'), 1466)\n",
            "(('Machine Learning - Machine Learning', '*', '*', '*', 'Friends'), 1631)\n",
            "(('Windows - Machine Learning', '*', '*', '*', 'Friends'), 1817)\n",
            "(('Cloud - Machine Learning', '*', '*', '*', 'Collaborators'), 1872)\n",
            "(('IOS - Machine Learning', '*', '*', '*', 'Friends'), 1543)\n",
            "(('Cloud - Machine Learning', '*', '*', '*', 'Friends'), 1862)\n",
            "(('Web - Machine Learning', '*', '*', '*', 'Collaborators'), 1544)\n",
            "(('Windows - Machine Learning', '*', '*', '*', 'Collaborators'), 1746)\n",
            "(('Windows - Web', '*', '*', '*', 'Friends'), 1573)\n",
            "(('Cybersecurity - Web', '*', '*', '*', 'Colleagues'), 1425)\n",
            "(('Android - Windows', '*', '*', '*', 'Collaborators'), 1878)\n",
            "(('DevOps - Windows', '*', '*', '*', 'Colleagues'), 1858)\n",
            "(('DevOps - Web', '*', '*', '*', 'Friends'), 1227)\n",
            "(('Cloud - Web', '*', '*', '*', 'Friends'), 1606)\n",
            "(('Android - Web', '*', '*', '*', 'Colleagues'), 1141)\n",
            "(('IOS - Web', '*', '*', '*', 'Colleagues'), 1321)\n",
            "(('Android - Web', '*', '*', '*', 'Collaborators'), 1148)\n",
            "(('Windows - IOS', '*', '*', '*', 'Collaborators'), 1670)\n",
            "(('Windows - IOS', '*', '*', '*', 'Friends'), 1627)\n",
            "(('IOS - IOS', '*', '*', '*', 'Friends'), 1403)\n",
            "(('Machine Learning - IOS', '*', '*', '*', 'Collaborators'), 1473)\n",
            "(('Web - DevOps', '*', '*', '*', 'Friends'), 1300)\n",
            "(('Windows - DevOps', '*', '*', '*', 'Colleagues'), 1601)\n",
            "(('Machine Learning - DevOps', '*', '*', '*', 'Friends'), 1384)\n",
            "(('IOS - DevOps', '*', '*', '*', 'Friends'), 1291)\n",
            "(('Machine Learning - DevOps', '*', '*', '*', 'Colleagues'), 1398)\n",
            "(('Cybersecurity - DevOps', '*', '*', '*', 'Collaborators'), 1380)\n",
            "(('Cloud - DevOps', '*', '*', '*', 'Collaborators'), 1644)\n",
            "(('Cybersecurity - Android', '*', '*', '*', 'Collaborators'), 1374)\n",
            "(('Android - Android', '*', '*', '*', 'Collaborators'), 1231)\n",
            "(('Cybersecurity - Cloud', '*', '*', '*', 'Colleagues'), 1421)\n",
            "(('Android - Cloud', '*', '*', '*', 'Collaborators'), 1268)\n",
            "(('Cybersecurity - Cloud', '*', '*', '*', 'Collaborators'), 1427)\n",
            "(('Machine Learning - Cloud', '*', '*', '*', 'Friends'), 1461)\n",
            "(('Web - Cloud', '*', '*', '*', 'Collaborators'), 1345)\n",
            "(('Android - Cloud', '*', '*', '*', 'Friends'), 1284)\n",
            "(('Cloud - Cloud', '*', '*', '*', 'Collaborators'), 1653)\n",
            "(('Web - Cloud', '*', '*', '*', 'Friends'), 1361)\n",
            "(('DevOps - Cloud', '*', '*', '*', 'Collaborators'), 1308)\n",
            "(('Machine Learning - Cybersecurity', '*', '*', '*', 'Friends'), 1409)\n",
            "(('Android - Cybersecurity', '*', '*', '*', 'Colleagues'), 1284)\n",
            "(('Machine Learning - Android', '*', '*', '*', 'Friends'), 1338)\n",
            "(('Android - Android', '*', '*', '*', 'Colleagues'), 1115)\n",
            "(('DevOps - Android', '*', '*', '*', 'Collaborators'), 1239)\n",
            "(('DevOps - Cybersecurity', '*', '*', '*', 'Friends'), 1349)\n",
            "(('Cybersecurity - Cybersecurity', '*', '*', '*', 'Colleagues'), 1379)\n",
            "(('Cloud - Cybersecurity', '*', '*', '*', 'Friends'), 1700)\n",
            "(('DevOps - Windows', '*', '*', '*', 'Collaborators'), 1881)\n",
            "(('Android - Windows', '*', '*', '*', 'Colleagues'), 1836)\n",
            "(('Cloud - Windows', '*', '*', '*', 'Colleagues'), 2219)\n",
            "(('Cybersecurity - Windows', '*', '*', '*', 'Collaborators'), 1973)\n",
            "(('DevOps - Windows', '*', '*', '*', 'Friends'), 1871)\n",
            "(('Windows - Windows', '*', '*', '*', 'Friends'), 2307)\n",
            "(('Machine Learning - IOS', '*', '*', '*', 'Colleagues'), 1513)\n",
            "(('Machine Learning - Machine Learning', '*', '*', '*', 'Collaborators'), 1678)\n",
            "(('Cybersecurity - Machine Learning', '*', '*', '*', 'Colleagues'), 1612)\n",
            "(('IOS - Machine Learning', '*', '*', '*', 'Colleagues'), 1630)\n",
            "(('IOS - Machine Learning', '*', '*', '*', 'Collaborators'), 1593)\n",
            "(('Android - Machine Learning', '*', '*', '*', 'Friends'), 1478)\n",
            "(('Web - Machine Learning', '*', '*', '*', 'Friends'), 1557)\n",
            "(('DevOps - Machine Learning', '*', '*', '*', 'Friends'), 1440)\n",
            "(('Machine Learning - Machine Learning', '*', '*', '*', 'Colleagues'), 1597)\n",
            "(('Cybersecurity - Machine Learning', '*', '*', '*', 'Collaborators'), 1561)\n",
            "(('Machine Learning - Web', '*', '*', '*', 'Collaborators'), 1431)\n",
            "(('Cloud - Web', '*', '*', '*', 'Colleagues'), 1602)\n",
            "(('Cybersecurity - Windows', '*', '*', '*', 'Friends'), 2037)\n",
            "(('Machine Learning - Windows', '*', '*', '*', 'Collaborators'), 2118)\n",
            "(('IOS - Windows', '*', '*', '*', 'Collaborators'), 2050)\n",
            "(('Windows - DevOps', '*', '*', '*', 'Collaborators'), 1623)\n",
            "(('Cybersecurity - DevOps', '*', '*', '*', 'Colleagues'), 1387)\n",
            "(('Windows - DevOps', '*', '*', '*', 'Friends'), 1580)\n",
            "(('Web - DevOps', '*', '*', '*', 'Colleagues'), 1268)\n",
            "(('IOS - Web', '*', '*', '*', 'Collaborators'), 1301)\n",
            "(('Cybersecurity - Web', '*', '*', '*', 'Friends'), 1331)\n",
            "(('Machine Learning - Web', '*', '*', '*', 'Friends'), 1370)\n",
            "(('Web - Web', '*', '*', '*', 'Collaborators'), 1182)\n",
            "(('Cloud - IOS', '*', '*', '*', 'Collaborators'), 1672)\n",
            "(('Android - IOS', '*', '*', '*', 'Friends'), 1230)\n",
            "(('Machine Learning - DevOps', '*', '*', '*', 'Collaborators'), 1427)\n",
            "(('Android - DevOps', '*', '*', '*', 'Colleagues'), 1204)\n",
            "(('DevOps - DevOps', '*', '*', '*', 'Collaborators'), 1179)\n",
            "(('Cloud - DevOps', '*', '*', '*', 'Friends'), 1577)\n",
            "(('IOS - DevOps', '*', '*', '*', 'Colleagues'), 1249)\n",
            "(('DevOps - DevOps', '*', '*', '*', 'Colleagues'), 1260)\n",
            "(('Android - DevOps', '*', '*', '*', 'Collaborators'), 1199)\n",
            "(('Cybersecurity - DevOps', '*', '*', '*', 'Friends'), 1307)\n",
            "(('IOS - DevOps', '*', '*', '*', 'Collaborators'), 1274)\n",
            "(('Machine Learning - Cybersecurity', '*', '*', '*', 'Colleagues'), 1446)\n",
            "(('Android - IOS', '*', '*', '*', 'Colleagues'), 1238)\n",
            "(('Web - IOS', '*', '*', '*', 'Friends'), 1343)\n",
            "(('Cybersecurity - IOS', '*', '*', '*', 'Colleagues'), 1343)\n",
            "(('Windows - Android', '*', '*', '*', 'Colleagues'), 1630)\n",
            "(('Web - Android', '*', '*', '*', 'Friends'), 1309)\n",
            "(('IOS - Android', '*', '*', '*', 'Colleagues'), 1343)\n",
            "(('Windows - Android', '*', '*', '*', 'Collaborators'), 1623)\n",
            "(('Cloud - Android', '*', '*', '*', 'Collaborators'), 1546)\n",
            "(('Cloud - Android', '*', '*', '*', 'Friends'), 1657)\n",
            "(('Machine Learning - Cloud', '*', '*', '*', 'Collaborators'), 1406)\n",
            "(('IOS - Cloud', '*', '*', '*', 'Collaborators'), 1326)\n",
            "(('Windows - Cloud', '*', '*', '*', 'Friends'), 1587)\n",
            "(('Web - Cloud', '*', '*', '*', 'Colleagues'), 1271)\n",
            "(('Machine Learning - Cloud', '*', '*', '*', 'Colleagues'), 1485)\n",
            "(('DevOps - Cloud', '*', '*', '*', 'Friends'), 1196)\n",
            "(('Cybersecurity - Cybersecurity', '*', '*', '*', 'Collaborators'), 1336)\n",
            "(('IOS - Cybersecurity', '*', '*', '*', 'Colleagues'), 1398)\n",
            "(('Machine Learning - Cybersecurity', '*', '*', '*', 'Collaborators'), 1460)\n"
          ]
        }
      ],
      "source": [
        "# %%timeit\n",
        "queryDim = ('devDomain', 'relationshipType')\n",
        "vertices, edges = ghNaiveCube.getCuboid(queryDim)\n",
        "\n",
        "print('Vertices: ')\n",
        "for v in vertices:\n",
        "    print(v)\n",
        "print('\\nEdges: ')\n",
        "for e in edges:\n",
        "    print(e)"
      ]
    },
    {
      "cell_type": "markdown",
      "metadata": {
        "id": "4dp7R8dyMsIF"
      },
      "source": [
        "##### GraphTDC"
      ]
    },
    {
      "cell_type": "code",
      "execution_count": 239,
      "metadata": {
        "id": "HUrunnONMv9M"
      },
      "outputs": [],
      "source": [
        "ghTDC = GraphTDC(ghVertices, ('devDomain', 'gender', 'yearJoined', 'hacktoberfest'), ghEdges, ('relationshipType',),\n",
        "                cardinalityMap={'devDomain':8, 'gender':3, 'yearJoined':15, 'hacktoberfest':2, 'relationshipType':3})\n",
        "ghTDC.computeGraphCube()"
      ]
    },
    {
      "cell_type": "markdown",
      "metadata": {},
      "source": [
        "Cuboid Query"
      ]
    },
    {
      "cell_type": "code",
      "execution_count": 243,
      "metadata": {
        "colab": {
          "base_uri": "https://localhost:8080/"
        },
        "id": "0-z1XOXeOfoH",
        "outputId": "41e908ca-4b1d-4af0-f84b-c57fceb25477"
      },
      "outputs": [
        {
          "name": "stdout",
          "output_type": "stream",
          "text": [
            "Vertices: \n",
            "(('Android', '*', '*', '*'), 4659)\n",
            "(('DevOps', '*', '*', '*'), 4676)\n",
            "(('Web', '*', '*', '*'), 4691)\n",
            "(('Machine Learning', '*', '*', '*'), 4642)\n",
            "(('Cloud', '*', '*', '*'), 4704)\n",
            "(('Windows', '*', '*', '*'), 4841)\n",
            "(('Cybersecurity', '*', '*', '*'), 4690)\n",
            "(('IOS', '*', '*', '*'), 4797)\n",
            "\n",
            "Edges: \n",
            "(('Windows-Windows', '*', '*', '*', 'Friends'), 2307)\n",
            "(('Web-Machine Learning', '*', '*', '*', 'Colleagues'), 1449)\n",
            "(('DevOps-Machine Learning', '*', '*', '*', 'Friends'), 1440)\n",
            "(('Cybersecurity-Machine Learning', '*', '*', '*', 'Colleagues'), 1612)\n",
            "(('IOS-Windows', '*', '*', '*', 'Friends'), 2091)\n",
            "(('Windows-Windows', '*', '*', '*', 'Collaborators'), 2337)\n",
            "(('Android-Windows', '*', '*', '*', 'Colleagues'), 1836)\n",
            "(('Machine Learning-Web', '*', '*', '*', 'Colleagues'), 1357)\n",
            "(('Web-Web', '*', '*', '*', 'Friends'), 1269)\n",
            "(('Web-IOS', '*', '*', '*', 'Collaborators'), 1319)\n",
            "(('Machine Learning-IOS', '*', '*', '*', 'Friends'), 1456)\n",
            "(('Windows-IOS', '*', '*', '*', 'Colleagues'), 1768)\n",
            "(('IOS-Machine Learning', '*', '*', '*', 'Colleagues'), 1630)\n",
            "(('Windows-DevOps', '*', '*', '*', 'Collaborators'), 1623)\n",
            "(('IOS-DevOps', '*', '*', '*', 'Colleagues'), 1249)\n",
            "(('Android-Android', '*', '*', '*', 'Friends'), 1207)\n",
            "(('Machine Learning-Cloud', '*', '*', '*', 'Collaborators'), 1406)\n",
            "(('IOS-DevOps', '*', '*', '*', 'Collaborators'), 1274)\n",
            "(('Cybersecurity-DevOps', '*', '*', '*', 'Friends'), 1307)\n",
            "(('Machine Learning-Cloud', '*', '*', '*', 'Colleagues'), 1485)\n",
            "(('Cloud-Cloud', '*', '*', '*', 'Colleagues'), 1676)\n",
            "(('Android-Cloud', '*', '*', '*', 'Colleagues'), 1224)\n",
            "(('DevOps-Cybersecurity', '*', '*', '*', 'Friends'), 1349)\n",
            "(('Machine Learning-Cybersecurity', '*', '*', '*', 'Colleagues'), 1446)\n",
            "(('Web-DevOps', '*', '*', '*', 'Collaborators'), 1272)\n",
            "(('DevOps-Windows', '*', '*', '*', 'Friends'), 1871)\n",
            "(('Cloud-DevOps', '*', '*', '*', 'Colleagues'), 1619)\n",
            "(('Android-Web', '*', '*', '*', 'Colleagues'), 1141)\n",
            "(('Cybersecurity-Windows', '*', '*', '*', 'Collaborators'), 1973)\n",
            "(('IOS-IOS', '*', '*', '*', 'Colleagues'), 1415)\n",
            "(('Android-Windows', '*', '*', '*', 'Friends'), 1760)\n",
            "(('Cloud-IOS', '*', '*', '*', 'Colleagues'), 1558)\n",
            "(('Machine Learning-Cybersecurity', '*', '*', '*', 'Friends'), 1409)\n",
            "(('IOS-Cybersecurity', '*', '*', '*', 'Colleagues'), 1398)\n",
            "(('Cloud-Cybersecurity', '*', '*', '*', 'Colleagues'), 1682)\n",
            "(('Cloud-Android', '*', '*', '*', 'Colleagues'), 1557)\n",
            "(('Windows-Android', '*', '*', '*', 'Friends'), 1601)\n",
            "(('DevOps-Cloud', '*', '*', '*', 'Colleagues'), 1347)\n",
            "(('Cybersecurity-DevOps', '*', '*', '*', 'Colleagues'), 1387)\n",
            "(('Cloud-Machine Learning', '*', '*', '*', 'Collaborators'), 1872)\n",
            "(('Android-Android', '*', '*', '*', 'Collaborators'), 1231)\n",
            "(('Web-IOS', '*', '*', '*', 'Friends'), 1343)\n",
            "(('Machine Learning-Machine Learning', '*', '*', '*', 'Friends'), 1631)\n",
            "(('Web-Web', '*', '*', '*', 'Collaborators'), 1182)\n",
            "(('Android-Cybersecurity', '*', '*', '*', 'Collaborators'), 1244)\n",
            "(('Cybersecurity-Android', '*', '*', '*', 'Friends'), 1377)\n",
            "(('Cloud-Windows', '*', '*', '*', 'Collaborators'), 2228)\n",
            "(('Windows-Web', '*', '*', '*', 'Collaborators'), 1592)\n",
            "(('Cloud-Web', '*', '*', '*', 'Collaborators'), 1610)\n",
            "(('Cybersecurity-Web', '*', '*', '*', 'Colleagues'), 1425)\n",
            "(('Cybersecurity-Machine Learning', '*', '*', '*', 'Friends'), 1543)\n",
            "(('Windows-Android', '*', '*', '*', 'Colleagues'), 1630)\n",
            "(('Cybersecurity-Cloud', '*', '*', '*', 'Collaborators'), 1427)\n",
            "(('Cloud-DevOps', '*', '*', '*', 'Friends'), 1577)\n",
            "(('Machine Learning-DevOps', '*', '*', '*', 'Friends'), 1384)\n",
            "(('DevOps-Windows', '*', '*', '*', 'Collaborators'), 1881)\n",
            "(('Cloud-Windows', '*', '*', '*', 'Colleagues'), 2219)\n",
            "(('Android-Web', '*', '*', '*', 'Collaborators'), 1148)\n",
            "(('Windows-Web', '*', '*', '*', 'Colleagues'), 1539)\n",
            "(('Web-Cybersecurity', '*', '*', '*', 'Colleagues'), 1345)\n",
            "(('Android-Cybersecurity', '*', '*', '*', 'Friends'), 1274)\n",
            "(('Windows-Android', '*', '*', '*', 'Collaborators'), 1623)\n",
            "(('Machine Learning-DevOps', '*', '*', '*', 'Collaborators'), 1427)\n",
            "(('Android-Cloud', '*', '*', '*', 'Friends'), 1284)\n",
            "(('Windows-Windows', '*', '*', '*', 'Colleagues'), 2305)\n",
            "(('Machine Learning-Windows', '*', '*', '*', 'Colleagues'), 2025)\n",
            "(('IOS-Web', '*', '*', '*', 'Colleagues'), 1321)\n",
            "(('DevOps-IOS', '*', '*', '*', 'Colleagues'), 1310)\n",
            "(('Android-IOS', '*', '*', '*', 'Collaborators'), 1213)\n",
            "(('Windows-IOS', '*', '*', '*', 'Collaborators'), 1670)\n",
            "(('Cybersecurity-DevOps', '*', '*', '*', 'Collaborators'), 1380)\n",
            "(('DevOps-DevOps', '*', '*', '*', 'Collaborators'), 1179)\n",
            "(('DevOps-DevOps', '*', '*', '*', 'Friends'), 1313)\n",
            "(('IOS-Cloud', '*', '*', '*', 'Colleagues'), 1338)\n",
            "(('IOS-Android', '*', '*', '*', 'Friends'), 1302)\n",
            "(('DevOps-Machine Learning', '*', '*', '*', 'Collaborators'), 1415)\n",
            "(('Windows-Machine Learning', '*', '*', '*', 'Collaborators'), 1746)\n",
            "(('Cloud-Machine Learning', '*', '*', '*', 'Friends'), 1862)\n",
            "(('Android-Machine Learning', '*', '*', '*', 'Collaborators'), 1461)\n",
            "(('Machine Learning-Machine Learning', '*', '*', '*', 'Colleagues'), 1597)\n",
            "(('Windows-Cloud', '*', '*', '*', 'Friends'), 1587)\n",
            "(('Android-Cloud', '*', '*', '*', 'Collaborators'), 1268)\n",
            "(('Cloud-Cloud', '*', '*', '*', 'Friends'), 1642)\n",
            "(('Windows-DevOps', '*', '*', '*', 'Friends'), 1580)\n",
            "(('DevOps-Cybersecurity', '*', '*', '*', 'Colleagues'), 1307)\n",
            "(('Web-Cybersecurity', '*', '*', '*', 'Friends'), 1299)\n",
            "(('Cybersecurity-Cybersecurity', '*', '*', '*', 'Colleagues'), 1379)\n",
            "(('Machine Learning-Android', '*', '*', '*', 'Collaborators'), 1346)\n",
            "(('Web-Web', '*', '*', '*', 'Colleagues'), 1328)\n",
            "(('Machine Learning-Android', '*', '*', '*', 'Friends'), 1338)\n",
            "(('Machine Learning-Machine Learning', '*', '*', '*', 'Collaborators'), 1678)\n",
            "(('Android-Android', '*', '*', '*', 'Colleagues'), 1115)\n",
            "(('Windows-DevOps', '*', '*', '*', 'Colleagues'), 1601)\n",
            "(('Cybersecurity-Android', '*', '*', '*', 'Collaborators'), 1374)\n",
            "(('DevOps-Android', '*', '*', '*', 'Friends'), 1176)\n",
            "(('DevOps-Android', '*', '*', '*', 'Collaborators'), 1239)\n",
            "(('Cybersecurity-Android', '*', '*', '*', 'Colleagues'), 1377)\n",
            "(('Web-Android', '*', '*', '*', 'Collaborators'), 1283)\n",
            "(('Windows-Cloud', '*', '*', '*', 'Colleagues'), 1637)\n",
            "(('DevOps-Cloud', '*', '*', '*', 'Friends'), 1196)\n",
            "(('Cloud-Android', '*', '*', '*', 'Friends'), 1657)\n",
            "(('Cybersecurity-Cloud', '*', '*', '*', 'Friends'), 1491)\n",
            "(('IOS-Web', '*', '*', '*', 'Collaborators'), 1301)\n",
            "(('Android-Web', '*', '*', '*', 'Friends'), 1176)\n",
            "(('DevOps-Web', '*', '*', '*', 'Colleagues'), 1307)\n",
            "(('IOS-IOS', '*', '*', '*', 'Friends'), 1403)\n",
            "(('Web-DevOps', '*', '*', '*', 'Colleagues'), 1268)\n",
            "(('Cloud-Web', '*', '*', '*', 'Colleagues'), 1602)\n",
            "(('Web-Cloud', '*', '*', '*', 'Friends'), 1361)\n",
            "(('Cybersecurity-Machine Learning', '*', '*', '*', 'Collaborators'), 1561)\n",
            "(('IOS-Cloud', '*', '*', '*', 'Friends'), 1383)\n",
            "(('IOS-IOS', '*', '*', '*', 'Collaborators'), 1389)\n",
            "(('Machine Learning-IOS', '*', '*', '*', 'Colleagues'), 1513)\n",
            "(('Windows-Cybersecurity', '*', '*', '*', 'Collaborators'), 1672)\n",
            "(('Web-Windows', '*', '*', '*', 'Collaborators'), 1916)\n",
            "(('Windows-Machine Learning', '*', '*', '*', 'Friends'), 1817)\n",
            "(('Android-Machine Learning', '*', '*', '*', 'Colleagues'), 1466)\n",
            "(('Cybersecurity-Windows', '*', '*', '*', 'Friends'), 2037)\n",
            "(('Cloud-Windows', '*', '*', '*', 'Friends'), 2230)\n",
            "(('IOS-Windows', '*', '*', '*', 'Collaborators'), 2050)\n",
            "(('DevOps-Web', '*', '*', '*', 'Friends'), 1227)\n",
            "(('Cybersecurity-Web', '*', '*', '*', 'Friends'), 1331)\n",
            "(('Cloud-Web', '*', '*', '*', 'Friends'), 1606)\n",
            "(('Android-DevOps', '*', '*', '*', 'Collaborators'), 1199)\n",
            "(('DevOps-IOS', '*', '*', '*', 'Friends'), 1331)\n",
            "(('Cybersecurity-IOS', '*', '*', '*', 'Colleagues'), 1343)\n",
            "(('Cloud-IOS', '*', '*', '*', 'Friends'), 1662)\n",
            "(('Web-DevOps', '*', '*', '*', 'Friends'), 1300)\n",
            "(('Web-Android', '*', '*', '*', 'Colleagues'), 1269)\n",
            "(('Cloud-Machine Learning', '*', '*', '*', 'Colleagues'), 1813)\n",
            "(('Windows-Machine Learning', '*', '*', '*', 'Colleagues'), 1780)\n",
            "(('Web-Machine Learning', '*', '*', '*', 'Friends'), 1557)\n",
            "(('Android-DevOps', '*', '*', '*', 'Friends'), 1195)\n",
            "(('DevOps-Cloud', '*', '*', '*', 'Collaborators'), 1308)\n",
            "(('Cybersecurity-Cloud', '*', '*', '*', 'Colleagues'), 1421)\n",
            "(('Web-Cloud', '*', '*', '*', 'Collaborators'), 1345)\n",
            "(('Cloud-Cloud', '*', '*', '*', 'Collaborators'), 1653)\n",
            "(('Windows-Cloud', '*', '*', '*', 'Collaborators'), 1613)\n",
            "(('IOS-Cloud', '*', '*', '*', 'Collaborators'), 1326)\n",
            "(('DevOps-Cybersecurity', '*', '*', '*', 'Collaborators'), 1291)\n",
            "(('Cloud-DevOps', '*', '*', '*', 'Collaborators'), 1644)\n",
            "(('Web-Windows', '*', '*', '*', 'Colleagues'), 1932)\n",
            "(('IOS-Windows', '*', '*', '*', 'Colleagues'), 2005)\n",
            "(('DevOps-DevOps', '*', '*', '*', 'Colleagues'), 1260)\n",
            "(('IOS-Cybersecurity', '*', '*', '*', 'Collaborators'), 1476)\n",
            "(('Cybersecurity-Cybersecurity', '*', '*', '*', 'Collaborators'), 1336)\n",
            "(('DevOps-Windows', '*', '*', '*', 'Colleagues'), 1858)\n",
            "(('Machine Learning-Windows', '*', '*', '*', 'Collaborators'), 2118)\n",
            "(('Web-Windows', '*', '*', '*', 'Friends'), 1925)\n",
            "(('Machine Learning-DevOps', '*', '*', '*', 'Colleagues'), 1398)\n",
            "(('IOS-Cybersecurity', '*', '*', '*', 'Friends'), 1434)\n",
            "(('Cloud-IOS', '*', '*', '*', 'Collaborators'), 1672)\n",
            "(('Cybersecurity-IOS', '*', '*', '*', 'Collaborators'), 1442)\n",
            "(('IOS-Web', '*', '*', '*', 'Friends'), 1299)\n",
            "(('DevOps-Web', '*', '*', '*', 'Collaborators'), 1220)\n",
            "(('Web-Android', '*', '*', '*', 'Friends'), 1309)\n",
            "(('Cloud-Cybersecurity', '*', '*', '*', 'Collaborators'), 1648)\n",
            "(('Windows-Cybersecurity', '*', '*', '*', 'Colleagues'), 1700)\n",
            "(('Windows-Cybersecurity', '*', '*', '*', 'Friends'), 1683)\n",
            "(('Android-Cybersecurity', '*', '*', '*', 'Colleagues'), 1284)\n",
            "(('Windows-IOS', '*', '*', '*', 'Friends'), 1627)\n",
            "(('Machine Learning-Android', '*', '*', '*', 'Colleagues'), 1370)\n",
            "(('IOS-Android', '*', '*', '*', 'Colleagues'), 1343)\n",
            "(('Machine Learning-Cloud', '*', '*', '*', 'Friends'), 1461)\n",
            "(('Cloud-Android', '*', '*', '*', 'Collaborators'), 1546)\n",
            "(('DevOps-Android', '*', '*', '*', 'Colleagues'), 1163)\n",
            "(('Machine Learning-Web', '*', '*', '*', 'Friends'), 1370)\n",
            "(('Web-Cybersecurity', '*', '*', '*', 'Collaborators'), 1275)\n",
            "(('Windows-Web', '*', '*', '*', 'Friends'), 1573)\n",
            "(('Android-Machine Learning', '*', '*', '*', 'Friends'), 1478)\n",
            "(('Cybersecurity-Web', '*', '*', '*', 'Collaborators'), 1402)\n",
            "(('Machine Learning-Cybersecurity', '*', '*', '*', 'Collaborators'), 1460)\n",
            "(('DevOps-IOS', '*', '*', '*', 'Collaborators'), 1280)\n",
            "(('Machine Learning-IOS', '*', '*', '*', 'Collaborators'), 1473)\n",
            "(('Machine Learning-Web', '*', '*', '*', 'Collaborators'), 1431)\n",
            "(('Cloud-Cybersecurity', '*', '*', '*', 'Friends'), 1700)\n",
            "(('Cybersecurity-IOS', '*', '*', '*', 'Friends'), 1471)\n",
            "(('IOS-Machine Learning', '*', '*', '*', 'Friends'), 1543)\n",
            "(('DevOps-Machine Learning', '*', '*', '*', 'Colleagues'), 1414)\n",
            "(('Android-Windows', '*', '*', '*', 'Collaborators'), 1878)\n",
            "(('Android-DevOps', '*', '*', '*', 'Colleagues'), 1204)\n",
            "(('Web-IOS', '*', '*', '*', 'Colleagues'), 1339)\n",
            "(('IOS-DevOps', '*', '*', '*', 'Friends'), 1291)\n",
            "(('Web-Cloud', '*', '*', '*', 'Colleagues'), 1271)\n",
            "(('Cybersecurity-Windows', '*', '*', '*', 'Colleagues'), 2040)\n",
            "(('Android-IOS', '*', '*', '*', 'Friends'), 1230)\n",
            "(('Web-Machine Learning', '*', '*', '*', 'Collaborators'), 1544)\n",
            "(('IOS-Android', '*', '*', '*', 'Collaborators'), 1378)\n",
            "(('Cybersecurity-Cybersecurity', '*', '*', '*', 'Friends'), 1424)\n",
            "(('IOS-Machine Learning', '*', '*', '*', 'Collaborators'), 1593)\n",
            "(('Machine Learning-Windows', '*', '*', '*', 'Friends'), 2050)\n",
            "(('Android-IOS', '*', '*', '*', 'Colleagues'), 1238)\n"
          ]
        }
      ],
      "source": [
        "# %%timeit\n",
        "queryDim = ('devDomain', 'relationshipType')\n",
        "vertices, edges = ghTDC.getCuboid(queryDim)\n",
        "\n",
        "print('Vertices: ')\n",
        "for v in vertices:\n",
        "    print(v)\n",
        "print('\\nEdges: ')\n",
        "for e in edges:\n",
        "    print(e)"
      ]
    },
    {
      "cell_type": "markdown",
      "metadata": {},
      "source": [
        "##### Dataframe"
      ]
    },
    {
      "cell_type": "code",
      "execution_count": 13,
      "metadata": {},
      "outputs": [],
      "source": [
        "ghVerticesDf  = spark.read.csv('./data/github_vertices.csv', header=True)\n",
        "\n",
        "ghEdgesDf  = spark.read.csv('./data/github_edges.csv', header=True)\n",
        "\n",
        "ghVEDf = ghEdgesDf.join(ghVerticesDf , ghVerticesDf.id == ghEdgesDf.id_1).alias('src').join(\n",
        "        ghVerticesDf.alias('dest'), sf.col('src.id_2') == sf.col('dest.id')\n",
        "    ).select(\n",
        "        'src.dev_domain', 'src.gender', 'src.year_joined', 'src.hacktoberfest',\n",
        "        'dest.dev_domain', 'dest.gender', 'dest.year_joined', 'dest.hacktoberfest',\n",
        "        'src.relationship_type',\n",
        "    )\n",
        "\n",
        "ghVCubeDf = ghVerticesDf.cube(ghVerticesDf.columns[1:]).count()\n",
        "\n",
        "ghVECubeDf = (ghVEDf.cube(\n",
        "        'src.dev_domain', 'dest.dev_domain', \n",
        "        'src.gender', 'dest.gender', \n",
        "        'src.year_joined', 'dest.year_joined',\n",
        "        'src.hacktoberfest', 'dest.hacktoberfest',\n",
        "        'relationship_type',\n",
        "    ).count())"
      ]
    },
    {
      "cell_type": "markdown",
      "metadata": {},
      "source": [
        "Cuboid Query"
      ]
    },
    {
      "cell_type": "code",
      "execution_count": 14,
      "metadata": {},
      "outputs": [
        {
          "name": "stdout",
          "output_type": "stream",
          "text": [
            "+----------------+------+-----------+-------------+-----+\n",
            "|      dev_domain|gender|year_joined|hacktoberfest|count|\n",
            "+----------------+------+-----------+-------------+-----+\n",
            "|           Cloud|  NULL|       NULL|         NULL| 4704|\n",
            "|             IOS|  NULL|       NULL|         NULL| 4797|\n",
            "|             Web|  NULL|       NULL|         NULL| 4691|\n",
            "|         Android|  NULL|       NULL|         NULL| 4659|\n",
            "|          DevOps|  NULL|       NULL|         NULL| 4676|\n",
            "|Machine Learning|  NULL|       NULL|         NULL| 4642|\n",
            "|   Cybersecurity|  NULL|       NULL|         NULL| 4690|\n",
            "|         Windows|  NULL|       NULL|         NULL| 4841|\n",
            "+----------------+------+-----------+-------------+-----+\n",
            "\n",
            "+----------------+----------------+------+------+-----------+-----------+-------------+-------------+-----------------+-----+\n",
            "|      dev_domain|      dev_domain|gender|gender|year_joined|year_joined|hacktoberfest|hacktoberfest|relationship_type|count|\n",
            "+----------------+----------------+------+------+-----------+-----------+-------------+-------------+-----------------+-----+\n",
            "|   Cybersecurity|   Cybersecurity|  NULL|  NULL|       NULL|       NULL|         NULL|         NULL|       Colleagues| 1379|\n",
            "|Machine Learning|             IOS|  NULL|  NULL|       NULL|       NULL|         NULL|         NULL|       Colleagues| 1513|\n",
            "|           Cloud|           Cloud|  NULL|  NULL|       NULL|       NULL|         NULL|         NULL|       Colleagues| 1676|\n",
            "|           Cloud|   Cybersecurity|  NULL|  NULL|       NULL|       NULL|         NULL|         NULL|       Colleagues| 1682|\n",
            "|Machine Learning|   Cybersecurity|  NULL|  NULL|       NULL|       NULL|         NULL|         NULL|          Friends| 1409|\n",
            "|   Cybersecurity|           Cloud|  NULL|  NULL|       NULL|       NULL|         NULL|         NULL|    Collaborators| 1427|\n",
            "|   Cybersecurity|         Android|  NULL|  NULL|       NULL|       NULL|         NULL|         NULL|          Friends| 1377|\n",
            "|          DevOps|Machine Learning|  NULL|  NULL|       NULL|       NULL|         NULL|         NULL|    Collaborators| 1415|\n",
            "|             Web|   Cybersecurity|  NULL|  NULL|       NULL|       NULL|         NULL|         NULL|    Collaborators| 1275|\n",
            "|         Windows|Machine Learning|  NULL|  NULL|       NULL|       NULL|         NULL|         NULL|          Friends| 1817|\n",
            "|           Cloud|             Web|  NULL|  NULL|       NULL|       NULL|         NULL|         NULL|          Friends| 1606|\n",
            "|Machine Learning|           Cloud|  NULL|  NULL|       NULL|       NULL|         NULL|         NULL|          Friends| 1461|\n",
            "|           Cloud|         Android|  NULL|  NULL|       NULL|       NULL|         NULL|         NULL|    Collaborators| 1546|\n",
            "|             IOS|         Windows|  NULL|  NULL|       NULL|       NULL|         NULL|         NULL|    Collaborators| 2050|\n",
            "|          DevOps|         Android|  NULL|  NULL|       NULL|       NULL|         NULL|         NULL|          Friends| 1176|\n",
            "|           Cloud|             IOS|  NULL|  NULL|       NULL|       NULL|         NULL|         NULL|       Colleagues| 1558|\n",
            "|             IOS|           Cloud|  NULL|  NULL|       NULL|       NULL|         NULL|         NULL|    Collaborators| 1326|\n",
            "|           Cloud|             IOS|  NULL|  NULL|       NULL|       NULL|         NULL|         NULL|    Collaborators| 1672|\n",
            "|   Cybersecurity|          DevOps|  NULL|  NULL|       NULL|       NULL|         NULL|         NULL|    Collaborators| 1380|\n",
            "|   Cybersecurity|Machine Learning|  NULL|  NULL|       NULL|       NULL|         NULL|         NULL|       Colleagues| 1612|\n",
            "+----------------+----------------+------+------+-----------+-----------+-------------+-------------+-----------------+-----+\n",
            "only showing top 20 rows\n",
            "\n"
          ]
        }
      ],
      "source": [
        "# %%timeit\n",
        "ghVCubeDf.filter(\n",
        "    sf.col('dev_domain').isNotNull() &\n",
        "    sf.col('gender').isNull() &\n",
        "    sf.col('year_joined').isNull() &\n",
        "    sf.col('hacktoberfest').isNull()\n",
        ").show()\n",
        "\n",
        "ghVECubeDf.filter(\n",
        "    sf.col('src.dev_domain').isNotNull() & sf.col('dest.dev_domain').isNotNull() &\n",
        "    sf.col('src.gender').isNull() & sf.col('dest.gender').isNull() &\n",
        "    sf.col('src.year_joined').isNull() & sf.col('dest.year_joined').isNull() &\n",
        "    sf.col('src.hacktoberfest').isNull() & sf.col('dest.hacktoberfest').isNull() &\n",
        "    sf.col('relationship_type').isNotNull()\n",
        ").show()"
      ]
    }
  ],
  "metadata": {
    "colab": {
      "collapsed_sections": [
        "dgSCZ2hpOPrM",
        "7M5JnAW46NBB",
        "kY3Py9MY6J1_"
      ],
      "provenance": []
    },
    "kernelspec": {
      "display_name": "Python 3",
      "name": "python3"
    },
    "language_info": {
      "codemirror_mode": {
        "name": "ipython",
        "version": 3
      },
      "file_extension": ".py",
      "mimetype": "text/x-python",
      "name": "python",
      "nbconvert_exporter": "python",
      "pygments_lexer": "ipython3",
      "version": "3.11.2"
    }
  },
  "nbformat": 4,
  "nbformat_minor": 0
}
